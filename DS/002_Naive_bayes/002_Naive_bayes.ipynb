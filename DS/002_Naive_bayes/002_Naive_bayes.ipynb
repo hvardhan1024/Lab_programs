{
 "cells": [
  {
   "cell_type": "code",
   "execution_count": null,
   "id": "54f4d037-e4ea-4952-94c9-333a4b5a9ff5",
   "metadata": {},
   "outputs": [],
   "source": []
  }
 ],
 "metadata": {
  "kernelspec": {
   "display_name": "",
   "name": ""
  },
  "language_info": {
   "name": ""
  }
 },
 "nbformat": 4,
 "nbformat_minor": 5
}
