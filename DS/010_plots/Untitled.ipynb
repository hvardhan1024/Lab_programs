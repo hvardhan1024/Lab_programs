{
 "cells": [
  {
   "cell_type": "code",
   "execution_count": null,
   "id": "fe34f8d3-ac4e-4d65-8d6d-d43cecac8b0f",
   "metadata": {},
   "outputs": [],
   "source": [
    "show distribution of continuous "
   ]
  }
 ],
 "metadata": {
  "kernelspec": {
   "display_name": "Python 3 (ipykernel)",
   "language": "python",
   "name": "python3"
  },
  "language_info": {
   "codemirror_mode": {
    "name": "ipython",
    "version": 3
   },
   "file_extension": ".py",
   "mimetype": "text/x-python",
   "name": "python",
   "nbconvert_exporter": "python",
   "pygments_lexer": "ipython3",
   "version": "3.12.3"
  }
 },
 "nbformat": 4,
 "nbformat_minor": 5
}
