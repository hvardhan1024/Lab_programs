{
 "cells": [
  {
   "cell_type": "code",
   "execution_count": null,
   "id": "6616724e-cd96-4907-9dca-108fa54bb1fa",
   "metadata": {},
   "outputs": [],
   "source": [
    "\n",
    "numpy \n",
    "type(arr)\n",
    "arr.ndim\n",
    "arr.shape\n",
    "arr.size\n",
    "arr.dtype\n",
    "\n",
    "arr1 = np.arr[[1,2,3],[4,5,6]]\n",
    "arr2 = np.arr[[5,6,7],[8,9,0]]\n",
    "\n",
    "\n",
    "operations\n",
    "arr1+3\n",
    "arr1+arr2\n",
    "subtraction \n",
    "multiplication \n",
    "division\n",
    "exponent\n",
    "\n",
    "\n",
    "statistical methods\n",
    "np.mean axis\n",
    "np.median axis\n",
    "np.std\n",
    "np.min\n",
    "np.max \n",
    "np.var\n",
    "np.std\n",
    "np.percentile (arr,25)\n",
    "\n",
    "\n"
   ]
  },
  {
   "cell_type": "code",
   "execution_count": 1,
   "id": "e20b4198-593e-4e11-8073-6126e77242ea",
   "metadata": {},
   "outputs": [],
   "source": [
    "import numpy as np"
   ]
  },
  {
   "cell_type": "markdown",
   "id": "ef264250-2f61-4680-aaf7-b068d97c3b46",
   "metadata": {},
   "source": [
    "# 📌 Basic Array Attributes\n",
    "Let's create a NumPy array and explore its properties."
   ]
  },
  {
   "cell_type": "code",
   "execution_count": 3,
   "id": "33c16dfb-9a1a-46d8-934c-9965afb50cd2",
   "metadata": {},
   "outputs": [
    {
     "name": "stdout",
     "output_type": "stream",
     "text": [
      "<class 'numpy.ndarray'>\n",
      "2\n",
      "(2, 3)\n",
      "6\n",
      "int64\n"
     ]
    }
   ],
   "source": [
    "arr = np.array([[1, 2, 3], [4, 5, 6]])  # A 2D NumPy array\n",
    "print(type(arr))  # Output: <class 'numpy.ndarray'>\n",
    "print(arr.ndim)  # Output: 2\n",
    "print(arr.shape)  # Output: (2, 3)\n",
    "print(arr.size)  # Output: 6\n",
    "print(arr.dtype)  # Output: int64 (or int32 based on system)\n"
   ]
  },
  {
   "cell_type": "markdown",
   "id": "6e5173a7-e082-4f47-9080-5700e6f0a5be",
   "metadata": {},
   "source": [
    "# 📌 Array Operations\n",
    "Let's create two NumPy arrays:"
   ]
  },
  {
   "cell_type": "code",
   "execution_count": 4,
   "id": "d0ccfee1-32e4-4c96-83ff-51e89b44a9b1",
   "metadata": {},
   "outputs": [
    {
     "name": "stdout",
     "output_type": "stream",
     "text": [
      "[[4 5 6]\n",
      " [7 8 9]]\n",
      "[[ 6  8 10]\n",
      " [12 14  6]]\n",
      "[[-4 -4 -4]\n",
      " [-4 -4  6]]\n",
      "[[ 5 12 21]\n",
      " [32 45  0]]\n",
      "[[0.2        0.33333333 0.42857143]\n",
      " [0.5        0.55555556        inf]]\n"
     ]
    },
    {
     "name": "stderr",
     "output_type": "stream",
     "text": [
      "/tmp/ipykernel_3985/843380828.py:14: RuntimeWarning: divide by zero encountered in divide\n",
      "  print(arr1 / arr2)\n"
     ]
    }
   ],
   "source": [
    "arr1 = np.array([[1, 2, 3], [4, 5, 6]])\n",
    "arr2 = np.array([[5, 6, 7], [8, 9, 0]])\n",
    "\n",
    "\n",
    "# Addition of scalar \n",
    "print(arr1 + 3)\n",
    "\n",
    "# element-wise addition of two arrays \n",
    "print(arr1 + arr2)\n",
    "\n",
    "# subtraction,multiplication, division\n",
    "print(arr1 - arr2)\n",
    "print(arr1 * arr2)\n",
    "print(arr1 / arr2) \n",
    "\n",
    "\n"
   ]
  },
  {
   "cell_type": "markdown",
   "id": "f8ade439-dde3-449c-aa46-2502f25eb88d",
   "metadata": {},
   "source": [
    "# 📌 Statistical Methods\n",
    "NumPy provides powerful statistical functions:"
   ]
  },
  {
   "cell_type": "code",
   "execution_count": 5,
   "id": "181de7ed-e322-405c-a0d1-17d636497559",
   "metadata": {},
   "outputs": [
    {
     "name": "stdout",
     "output_type": "stream",
     "text": [
      "[2.5 3.5 4.5]\n",
      "[2. 5.]\n",
      "1.707825127659933\n",
      "1\n",
      "6\n",
      "2.9166666666666665\n",
      "1.707825127659933\n",
      "2.25\n"
     ]
    }
   ],
   "source": [
    "print(np.mean(arr, axis=0))  # Mean of each column\n",
    "print(np.median(arr, axis=1))  # Median of each row\n",
    "print(np.std(arr))\n",
    "print(np.min(arr))  # Smallest value\n",
    "print(np.max(arr))  # Largest value\n",
    "print(np.var(arr)) # variance \n",
    "print(np.std(arr)) # standard deviation \n",
    "print(np.percentile(arr, 25)) # 25th percentile"
   ]
  },
  {
   "cell_type": "markdown",
   "id": "532b5576-6718-4d15-b202-7456fe912b3e",
   "metadata": {},
   "source": [
    "Array Properties\n",
    "\n",
    "<table border=\"1\">\n",
    "  <tr>\n",
    "    <th>Feature</th>\n",
    "    <th>Description</th>\n",
    "  </tr>\n",
    "  <tr>\n",
    "    <td><code>arr.ndim</code></td>\n",
    "    <td>Number of dimensions</td>\n",
    "  </tr>\n",
    "  <tr>\n",
    "    <td><code>arr.shape</code></td>\n",
    "    <td>Shape of the array (rows, columns)</td>\n",
    "  </tr>\n",
    "  <tr>\n",
    "    <td><code>arr.size</code></td>\n",
    "    <td>Total number of elements</td>\n",
    "  </tr>\n",
    "  <tr>\n",
    "    <td><code>arr.dtype</code></td>\n",
    "    <td>Data type of elements</td>\n",
    "  </tr>\n",
    "</table>\n",
    "\n",
    "Basic Operations\n",
    "\n",
    "<table border=\"1\">\n",
    "  <tr>\n",
    "    <th>Operation</th>\n",
    "    <th>Description</th>\n",
    "  </tr>\n",
    "  <tr>\n",
    "    <td><code>arr + 3</code></td>\n",
    "    <td>Adds 3 to each element</td>\n",
    "  </tr>\n",
    "  <tr>\n",
    "    <td><code>arr1 + arr2</code></td>\n",
    "    <td>Element-wise addition</td>\n",
    "  </tr>\n",
    "  <tr>\n",
    "    <td><code>arr1 - arr2</code></td>\n",
    "    <td>Element-wise subtraction</td>\n",
    "  </tr>\n",
    "  <tr>\n",
    "    <td><code>arr1 * arr2</code></td>\n",
    "    <td>Element-wise multiplication</td>\n",
    "  </tr>\n",
    "  <tr>\n",
    "    <td><code>arr1 / arr2</code></td>\n",
    "    <td>Element-wise division</td>\n",
    "  </tr>\n",
    "  <tr>\n",
    "    <td><code>arr1 ** 2</code></td>\n",
    "    <td>Element-wise exponentiation</td>\n",
    "  </tr>\n",
    "</table>\n",
    "\n",
    "Statistical Functions\n",
    "\n",
    "<table border=\"1\">\n",
    "  <tr>\n",
    "    <th>Function</th>\n",
    "    <th>Description</th>\n",
    "  </tr>\n",
    "  <tr>\n",
    "    <td><code>np.mean(arr, axis=0)</code></td>\n",
    "    <td>Mean of each column</td>\n",
    "  </tr>\n",
    "  <tr>\n",
    "    <td><code>np.median(arr, axis=1)</code></td>\n",
    "    <td>Median of each row</td>\n",
    "  </tr>\n",
    "  <tr>\n",
    "    <td><code>np.std(arr)</code></td>\n",
    "    <td>Standard deviation</td>\n",
    "  </tr>\n",
    "  <tr>\n",
    "    <td><code>np.min(arr), np.max(arr)</code></td>\n",
    "    <td>Minimum and maximum values</td>\n",
    "  </tr>\n",
    "  <tr>\n",
    "    <td><code>np.var(arr)</code></td>\n",
    "    <td>Variance</td>\n",
    "  </tr>\n",
    "  <tr>\n",
    "    <td><code>np.percentile(arr, 25)</code></td>\n",
    "    <td>25th percentile</td>\n",
    "  </tr>\n",
    "</table>\n",
    "\n"
   ]
  },
  {
   "cell_type": "code",
   "execution_count": null,
   "id": "476555a2-45fc-48bb-8fe5-068d0f144986",
   "metadata": {},
   "outputs": [],
   "source": []
  },
  {
   "cell_type": "code",
   "execution_count": null,
   "id": "2ac3e4a8-1d4b-4e37-9314-9032a3d83606",
   "metadata": {},
   "outputs": [],
   "source": []
  },
  {
   "cell_type": "code",
   "execution_count": null,
   "id": "189df0f6-167a-462a-a90c-5d630f88f276",
   "metadata": {},
   "outputs": [],
   "source": []
  }
 ],
 "metadata": {
  "kernelspec": {
   "display_name": "Python 3 (ipykernel)",
   "language": "python",
   "name": "python3"
  },
  "language_info": {
   "codemirror_mode": {
    "name": "ipython",
    "version": 3
   },
   "file_extension": ".py",
   "mimetype": "text/x-python",
   "name": "python",
   "nbconvert_exporter": "python",
   "pygments_lexer": "ipython3",
   "version": "3.12.3"
  }
 },
 "nbformat": 4,
 "nbformat_minor": 5
}
