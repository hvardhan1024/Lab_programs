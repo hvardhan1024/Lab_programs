{
 "cells": [
  {
   "cell_type": "code",
   "execution_count": null,
   "id": "6616724e-cd96-4907-9dca-108fa54bb1fa",
   "metadata": {},
   "outputs": [],
   "source": []
  },
  {
   "cell_type": "code",
   "execution_count": 1,
   "id": "e20b4198-593e-4e11-8073-6126e77242ea",
   "metadata": {},
   "outputs": [],
   "source": [
    "import numpy as np"
   ]
  },
  {
   "cell_type": "markdown",
   "id": "ef264250-2f61-4680-aaf7-b068d97c3b46",
   "metadata": {},
   "source": [
    "# 📌 Basic Array Attributes\n",
    "Let's create a NumPy array and explore its properties."
   ]
  },
  {
   "cell_type": "code",
   "execution_count": 2,
   "id": "33c16dfb-9a1a-46d8-934c-9965afb50cd2",
   "metadata": {},
   "outputs": [
    {
     "name": "stdout",
     "output_type": "stream",
     "text": [
      "<class 'numpy.ndarray'>\n",
      "2\n",
      "(2, 3)\n",
      "6\n",
      "int64\n"
     ]
    }
   ],
   "source": [
    "arr = np.array([[1, 2, 3], [4, 5, 6]])  # A 2D NumPy array\n",
    "print(type(arr))  # Output: <class 'numpy.ndarray'>\n",
    "print(arr.ndim)  # Output: 2\n",
    "print(arr.shape)  # Output: (2, 3)\n",
    "print(arr.size)  # Output: 6\n",
    "print(arr.dtype)  # Output: int64 (or int32 based on system)\n"
   ]
  },
  {
   "cell_type": "markdown",
   "id": "6e5173a7-e082-4f47-9080-5700e6f0a5be",
   "metadata": {},
   "source": [
    "# 📌 Array Operations\n",
    "Let's create two NumPy arrays:"
   ]
  },
  {
   "cell_type": "code",
   "execution_count": 3,
   "id": "d0ccfee1-32e4-4c96-83ff-51e89b44a9b1",
   "metadata": {},
   "outputs": [
    {
     "name": "stdout",
     "output_type": "stream",
     "text": [
      "[[4 5 6]\n",
      " [7 8 9]]\n",
      "[[ 6  8 10]\n",
      " [12 14  6]]\n",
      "[[-4 -4 -4]\n",
      " [-4 -4  6]]\n",
      "[[ 5 12 21]\n",
      " [32 45  0]]\n",
      "[[0.2        0.33333333 0.42857143]\n",
      " [0.5        0.55555556        inf]]\n"
     ]
    },
    {
     "name": "stderr",
     "output_type": "stream",
     "text": [
      "/tmp/ipykernel_8167/843380828.py:14: RuntimeWarning: divide by zero encountered in divide\n",
      "  print(arr1 / arr2)\n"
     ]
    }
   ],
   "source": [
    "arr1 = np.array([[1, 2, 3], [4, 5, 6]])\n",
    "arr2 = np.array([[5, 6, 7], [8, 9, 0]])\n",
    "\n",
    "\n",
    "# Addition of scalar \n",
    "print(arr1 + 3)\n",
    "\n",
    "# element-wise addition of two arrays \n",
    "print(arr1 + arr2)\n",
    "\n",
    "# subtraction,multiplication, division\n",
    "print(arr1 - arr2)\n",
    "print(arr1 * arr2)\n",
    "print(arr1 / arr2) \n",
    "\n",
    "\n"
   ]
  },
  {
   "cell_type": "markdown",
   "id": "f8ade439-dde3-449c-aa46-2502f25eb88d",
   "metadata": {},
   "source": [
    "# 📌 Statistical Methods\n",
    "NumPy provides powerful statistical functions:"
   ]
  },
  {
   "cell_type": "code",
   "execution_count": 4,
   "id": "181de7ed-e322-405c-a0d1-17d636497559",
   "metadata": {},
   "outputs": [
    {
     "name": "stdout",
     "output_type": "stream",
     "text": [
      "[2.5 3.5 4.5]\n",
      "[2. 5.]\n",
      "1.707825127659933\n",
      "1\n",
      "6\n",
      "2.9166666666666665\n",
      "1.707825127659933\n",
      "2.25\n"
     ]
    }
   ],
   "source": [
    "print(np.mean(arr, axis=0))  # Mean of each column\n",
    "print(np.median(arr, axis=1))  # Median of each row\n",
    "print(np.std(arr))\n",
    "print(np.min(arr))  # Smallest value\n",
    "print(np.max(arr))  # Largest value\n",
    "print(np.var(arr)) # variance \n",
    "print(np.std(arr)) # standard deviation \n",
    "print(np.percentile(arr, 25)) # 25th percentile"
   ]
  },
  {
   "cell_type": "markdown",
   "id": "532b5576-6718-4d15-b202-7456fe912b3e",
   "metadata": {},
   "source": [
    "Array Properties\n",
    "\n",
    "<table border=\"1\">\n",
    "  <tr>\n",
    "    <th>Feature</th>\n",
    "    <th>Description</th>\n",
    "  </tr>\n",
    "  <tr>\n",
    "    <td><code>arr.ndim</code></td>\n",
    "    <td>Number of dimensions</td>\n",
    "  </tr>\n",
    "  <tr>\n",
    "    <td><code>arr.shape</code></td>\n",
    "    <td>Shape of the array (rows, columns)</td>\n",
    "  </tr>\n",
    "  <tr>\n",
    "    <td><code>arr.size</code></td>\n",
    "    <td>Total number of elements</td>\n",
    "  </tr>\n",
    "  <tr>\n",
    "    <td><code>arr.dtype</code></td>\n",
    "    <td>Data type of elements</td>\n",
    "  </tr>\n",
    "</table>\n",
    "\n",
    "Basic Operations\n",
    "\n",
    "<table border=\"1\">\n",
    "  <tr>\n",
    "    <th>Operation</th>\n",
    "    <th>Description</th>\n",
    "  </tr>\n",
    "  <tr>\n",
    "    <td><code>arr + 3</code></td>\n",
    "    <td>Adds 3 to each element</td>\n",
    "  </tr>\n",
    "  <tr>\n",
    "    <td><code>arr1 + arr2</code></td>\n",
    "    <td>Element-wise addition</td>\n",
    "  </tr>\n",
    "  <tr>\n",
    "    <td><code>arr1 - arr2</code></td>\n",
    "    <td>Element-wise subtraction</td>\n",
    "  </tr>\n",
    "  <tr>\n",
    "    <td><code>arr1 * arr2</code></td>\n",
    "    <td>Element-wise multiplication</td>\n",
    "  </tr>\n",
    "  <tr>\n",
    "    <td><code>arr1 / arr2</code></td>\n",
    "    <td>Element-wise division</td>\n",
    "  </tr>\n",
    "  <tr>\n",
    "    <td><code>arr1 ** 2</code></td>\n",
    "    <td>Element-wise exponentiation</td>\n",
    "  </tr>\n",
    "</table>\n",
    "\n",
    "Statistical Functions\n",
    "\n",
    "<table border=\"1\">\n",
    "  <tr>\n",
    "    <th>Function</th>\n",
    "    <th>Description</th>\n",
    "  </tr>\n",
    "  <tr>\n",
    "    <td><code>np.mean(arr, axis=0)</code></td>\n",
    "    <td>Mean of each column</td>\n",
    "  </tr>\n",
    "  <tr>\n",
    "    <td><code>np.median(arr, axis=1)</code></td>\n",
    "    <td>Median of each row</td>\n",
    "  </tr>\n",
    "  <tr>\n",
    "    <td><code>np.std(arr)</code></td>\n",
    "    <td>Standard deviation</td>\n",
    "  </tr>\n",
    "  <tr>\n",
    "    <td><code>np.min(arr), np.max(arr)</code></td>\n",
    "    <td>Minimum and maximum values</td>\n",
    "  </tr>\n",
    "  <tr>\n",
    "    <td><code>np.var(arr)</code></td>\n",
    "    <td>Variance</td>\n",
    "  </tr>\n",
    "  <tr>\n",
    "    <td><code>np.percentile(arr, 25)</code></td>\n",
    "    <td>25th percentile</td>\n",
    "  </tr>\n",
    "</table>\n",
    "\n"
   ]
  },
  {
   "cell_type": "markdown",
   "id": "b2fc7fad-75e3-42a6-9ac4-ea18ba1d0940",
   "metadata": {},
   "source": [
    "# Pandas \n",
    "\n",
    " <table>\n",
    "        <tr>\n",
    "            <th>Function</th>\n",
    "            <th>Description</th>\n",
    "        </tr>\n",
    "        <tr>\n",
    "            <td><code>pd.DataFrame()</code></td>\n",
    "            <td>Creates a DataFrame from a dictionary.</td>\n",
    "        </tr>\n",
    "        <tr>\n",
    "            <td><code>df.loc[]</code></td>\n",
    "            <td>Accesses rows using labels (index).</td>\n",
    "        </tr>\n",
    "        <tr>\n",
    "            <td><code>df.iloc[]</code></td>\n",
    "            <td>Accesses rows using integer position.</td>\n",
    "        </tr>\n",
    "        <tr>\n",
    "            <td><code>df.info()</code></td>\n",
    "            <td>Provides a summary of the DataFrame including data types and non-null values.</td>\n",
    "        </tr>\n",
    "        <tr>\n",
    "            <td><code>df.describe()</code></td>\n",
    "            <td>Generates summary statistics for numerical columns.</td>\n",
    "        </tr>\n",
    "        <tr>\n",
    "            <td><code>df.dtypes</code></td>\n",
    "            <td>Displays the data types of each column.</td>\n",
    "        </tr>\n",
    "        <tr>\n",
    "            <td><code>pd.concat()</code></td>\n",
    "            <td>Concatenates multiple DataFrames.</td>\n",
    "        </tr>\n",
    "        <tr>\n",
    "            <td><code>df.isna().any()</code></td>\n",
    "            <td>Checks if there are any missing values in the DataFrame.</td>\n",
    "        </tr>\n",
    "        <tr>\n",
    "            <td><code>df.notna().all()</code></td>\n",
    "            <td>Checks if all values are non-null.</td>\n",
    "        </tr>\n",
    "        <tr>\n",
    "            <td><code>df.isna()</code> / <code>df.isnull()</code></td>\n",
    "            <td>Returns a DataFrame indicating where values are missing.</td>\n",
    "        </tr>\n",
    "        <tr>\n",
    "            <td><code>df.to_csv()</code></td>\n",
    "            <td>Saves the DataFrame to a CSV file.</td>\n",
    "        </tr>\n",
    "        <tr>\n",
    "            <td><code>pd.read_csv()</code></td>\n",
    "            <td>Reads a CSV file into a DataFrame.</td>\n",
    "        </tr>\n",
    "        <tr>\n",
    "            <td><code>df.drop()</code></td>\n",
    "            <td>Drops specified columns or rows from the DataFrame.</td>\n",
    "        </tr>\n",
    "        <tr>\n",
    "            <td><code>df.sum()</code></td>\n",
    "            <td>Computes the sum of DataFrame columns or rows.</td>\n",
    "        </tr>\n",
    "        <tr>\n",
    "            <td><code>pd.Series()</code></td>\n",
    "            <td>Creates a Pandas Series (one-dimensional array).</td>\n",
    "        </tr>\n",
    "        <tr>\n",
    "            <td>DataFrame from Series</td>\n",
    "            <td>Creates a DataFrame by combining multiple Series.</td>\n",
    "        </tr>\n",
    "    </table>"
   ]
  },
  {
   "cell_type": "code",
   "execution_count": null,
   "id": "189df0f6-167a-462a-a90c-5d630f88f276",
   "metadata": {},
   "outputs": [],
   "source": []
  },
  {
   "cell_type": "code",
   "execution_count": 13,
   "id": "23c339bf-32a5-43be-bedb-296ef7e2c7c9",
   "metadata": {},
   "outputs": [],
   "source": [
    "import pandas as pd  # Importing pandas library"
   ]
  },
  {
   "cell_type": "code",
   "execution_count": 15,
   "id": "eb613c7d-99be-4907-9737-85ee562848fd",
   "metadata": {},
   "outputs": [
    {
     "data": {
      "text/html": [
       "<div>\n",
       "<style scoped>\n",
       "    .dataframe tbody tr th:only-of-type {\n",
       "        vertical-align: middle;\n",
       "    }\n",
       "\n",
       "    .dataframe tbody tr th {\n",
       "        vertical-align: top;\n",
       "    }\n",
       "\n",
       "    .dataframe thead th {\n",
       "        text-align: right;\n",
       "    }\n",
       "</style>\n",
       "<table border=\"1\" class=\"dataframe\">\n",
       "  <thead>\n",
       "    <tr style=\"text-align: right;\">\n",
       "      <th></th>\n",
       "      <th>Name</th>\n",
       "      <th>Age</th>\n",
       "      <th>City</th>\n",
       "      <th>Salary</th>\n",
       "    </tr>\n",
       "  </thead>\n",
       "  <tbody>\n",
       "    <tr>\n",
       "      <th>0</th>\n",
       "      <td>Alice</td>\n",
       "      <td>25</td>\n",
       "      <td>New York</td>\n",
       "      <td>50000</td>\n",
       "    </tr>\n",
       "    <tr>\n",
       "      <th>1</th>\n",
       "      <td>Bob</td>\n",
       "      <td>30</td>\n",
       "      <td>Los Angeles</td>\n",
       "      <td>60000</td>\n",
       "    </tr>\n",
       "    <tr>\n",
       "      <th>2</th>\n",
       "      <td>Charlie</td>\n",
       "      <td>35</td>\n",
       "      <td>Chicago</td>\n",
       "      <td>70000</td>\n",
       "    </tr>\n",
       "    <tr>\n",
       "      <th>3</th>\n",
       "      <td>David</td>\n",
       "      <td>40</td>\n",
       "      <td>Houston</td>\n",
       "      <td>80000</td>\n",
       "    </tr>\n",
       "    <tr>\n",
       "      <th>4</th>\n",
       "      <td>Eve</td>\n",
       "      <td>45</td>\n",
       "      <td>Phoenix</td>\n",
       "      <td>90000</td>\n",
       "    </tr>\n",
       "    <tr>\n",
       "      <th>5</th>\n",
       "      <td>Frank</td>\n",
       "      <td>50</td>\n",
       "      <td>Philadelphia</td>\n",
       "      <td>100000</td>\n",
       "    </tr>\n",
       "  </tbody>\n",
       "</table>\n",
       "</div>"
      ],
      "text/plain": [
       "      Name  Age          City  Salary\n",
       "0    Alice   25      New York   50000\n",
       "1      Bob   30   Los Angeles   60000\n",
       "2  Charlie   35       Chicago   70000\n",
       "3    David   40       Houston   80000\n",
       "4      Eve   45       Phoenix   90000\n",
       "5    Frank   50  Philadelphia  100000"
      ]
     },
     "execution_count": 15,
     "metadata": {},
     "output_type": "execute_result"
    }
   ],
   "source": [
    "# Creating a DataFrame using a dictionary\n",
    "data = {\n",
    "    'Name': ['Alice', 'Bob', 'Charlie', 'David', 'Eve', 'Frank'],\n",
    "    'Age': [25, 30, 35, 40, 45, 50],\n",
    "    'City': ['New York', 'Los Angeles', 'Chicago', 'Houston', 'Phoenix', 'Philadelphia'],\n",
    "    'Salary': [50000, 60000, 70000, 80000, 90000, 100000]\n",
    "}\n",
    "df = pd.DataFrame(data)\n",
    "df"
   ]
  },
  {
   "cell_type": "code",
   "execution_count": 16,
   "id": "44cd86d3-4d79-488e-a6cd-25467d2e1411",
   "metadata": {},
   "outputs": [
    {
     "name": "stdout",
     "output_type": "stream",
     "text": [
      "DataFrame:\n",
      "      Name  Age          City  Salary\n",
      "0    Alice   25      New York   50000\n",
      "1      Bob   30   Los Angeles   60000\n",
      "2  Charlie   35       Chicago   70000\n",
      "3    David   40       Houston   80000\n",
      "4      Eve   45       Phoenix   90000\n",
      "5    Frank   50  Philadelphia  100000\n"
     ]
    }
   ],
   "source": [
    "# Displaying the DataFrame\n",
    "print(\"DataFrame:\")\n",
    "print(df)"
   ]
  },
  {
   "cell_type": "code",
   "execution_count": 17,
   "id": "3e5b2b6b-9c87-4bde-a321-28702ed5fd90",
   "metadata": {},
   "outputs": [
    {
     "name": "stdout",
     "output_type": "stream",
     "text": [
      "DataFrame:\n",
      "      Name  Age          City  Salary\n",
      "0    Alice   25      New York   50000\n",
      "1      Bob   30   Los Angeles   60000\n",
      "2  Charlie   35       Chicago   70000\n",
      "3    David   40       Houston   80000\n",
      "4      Eve   45       Phoenix   90000\n",
      "5    Frank   50  Philadelphia  100000\n",
      "\n",
      "Using loc:\n",
      "Name      Charlie\n",
      "Age            35\n",
      "City      Chicago\n",
      "Salary      70000\n",
      "Name: 2, dtype: object\n",
      "\n",
      "Using iloc:\n",
      "Name      Charlie\n",
      "Age            35\n",
      "City      Chicago\n",
      "Salary      70000\n",
      "Name: 2, dtype: object\n",
      "\n",
      "DataFrame Info:\n",
      "<class 'pandas.core.frame.DataFrame'>\n",
      "RangeIndex: 6 entries, 0 to 5\n",
      "Data columns (total 4 columns):\n",
      " #   Column  Non-Null Count  Dtype \n",
      "---  ------  --------------  ----- \n",
      " 0   Name    6 non-null      object\n",
      " 1   Age     6 non-null      int64 \n",
      " 2   City    6 non-null      object\n",
      " 3   Salary  6 non-null      int64 \n",
      "dtypes: int64(2), object(2)\n",
      "memory usage: 324.0+ bytes\n",
      "\n",
      "Descriptive Statistics:\n",
      "             Age         Salary\n",
      "count   6.000000       6.000000\n",
      "mean   37.500000   75000.000000\n",
      "std     9.354143   18708.286934\n",
      "min    25.000000   50000.000000\n",
      "25%    31.250000   62500.000000\n",
      "50%    37.500000   75000.000000\n",
      "75%    43.750000   87500.000000\n",
      "max    50.000000  100000.000000\n",
      "\n",
      "Data Types:\n",
      "Name      object\n",
      "Age        int64\n",
      "City      object\n",
      "Salary     int64\n",
      "dtype: object\n"
     ]
    }
   ],
   "source": [
    "# Displaying the DataFrame\n",
    "print(\"DataFrame:\")\n",
    "print(df)\n",
    "\n",
    "# Using .loc to access rows by labels (index)\n",
    "print(\"\\nUsing loc:\")\n",
    "print(df.loc[2])  # Fetching the 3rd row\n",
    "\n",
    "# Using .iloc to access rows by integer position\n",
    "print(\"\\nUsing iloc:\")\n",
    "print(df.iloc[2])  # Fetching the 3rd row\n",
    "\n",
    "# Getting info about the DataFrame\n",
    "print(\"\\nDataFrame Info:\")\n",
    "df.info()\n",
    "\n",
    "# Getting descriptive statistics\n",
    "print(\"\\nDescriptive Statistics:\")\n",
    "print(df.describe())\n",
    "\n",
    "# Checking data types of each column\n",
    "print(\"\\nData Types:\")\n",
    "print(df.dtypes)\n"
   ]
  },
  {
   "cell_type": "code",
   "execution_count": 18,
   "id": "cb923493-5167-4b3d-a4f9-6a01732af83c",
   "metadata": {},
   "outputs": [
    {
     "data": {
      "text/html": [
       "<div>\n",
       "<style scoped>\n",
       "    .dataframe tbody tr th:only-of-type {\n",
       "        vertical-align: middle;\n",
       "    }\n",
       "\n",
       "    .dataframe tbody tr th {\n",
       "        vertical-align: top;\n",
       "    }\n",
       "\n",
       "    .dataframe thead th {\n",
       "        text-align: right;\n",
       "    }\n",
       "</style>\n",
       "<table border=\"1\" class=\"dataframe\">\n",
       "  <thead>\n",
       "    <tr style=\"text-align: right;\">\n",
       "      <th></th>\n",
       "      <th>Name</th>\n",
       "      <th>Age</th>\n",
       "      <th>City</th>\n",
       "      <th>Salary</th>\n",
       "    </tr>\n",
       "  </thead>\n",
       "  <tbody>\n",
       "    <tr>\n",
       "      <th>0</th>\n",
       "      <td>Grace</td>\n",
       "      <td>28</td>\n",
       "      <td>San Diego</td>\n",
       "      <td>55000</td>\n",
       "    </tr>\n",
       "    <tr>\n",
       "      <th>1</th>\n",
       "      <td>Hank</td>\n",
       "      <td>33</td>\n",
       "      <td>Austin</td>\n",
       "      <td>65000</td>\n",
       "    </tr>\n",
       "    <tr>\n",
       "      <th>2</th>\n",
       "      <td>Ian</td>\n",
       "      <td>38</td>\n",
       "      <td>Denver</td>\n",
       "      <td>75000</td>\n",
       "    </tr>\n",
       "    <tr>\n",
       "      <th>3</th>\n",
       "      <td>Jack</td>\n",
       "      <td>43</td>\n",
       "      <td>Seattle</td>\n",
       "      <td>85000</td>\n",
       "    </tr>\n",
       "  </tbody>\n",
       "</table>\n",
       "</div>"
      ],
      "text/plain": [
       "    Name  Age       City  Salary\n",
       "0  Grace   28  San Diego   55000\n",
       "1   Hank   33     Austin   65000\n",
       "2    Ian   38     Denver   75000\n",
       "3   Jack   43    Seattle   85000"
      ]
     },
     "execution_count": 18,
     "metadata": {},
     "output_type": "execute_result"
    }
   ],
   "source": [
    "# Creating another DataFrame\n",
    "data2 = {\n",
    "    'Name': ['Grace', 'Hank', 'Ian', 'Jack'],\n",
    "    'Age': [28, 33, 38, 43],\n",
    "    'City': ['San Diego', 'Austin', 'Denver', 'Seattle'],\n",
    "    'Salary': [55000, 65000, 75000, 85000]\n",
    "}\n",
    "df2 = pd.DataFrame(data2)\n",
    "df2"
   ]
  },
  {
   "cell_type": "code",
   "execution_count": 19,
   "id": "77e2bea7-5023-4e88-8d95-d171fb77e0cb",
   "metadata": {},
   "outputs": [
    {
     "name": "stdout",
     "output_type": "stream",
     "text": [
      "\n",
      "Concatenated DataFrame:\n",
      "      Name  Age          City  Salary\n",
      "0    Alice   25      New York   50000\n",
      "1      Bob   30   Los Angeles   60000\n",
      "2  Charlie   35       Chicago   70000\n",
      "3    David   40       Houston   80000\n",
      "4      Eve   45       Phoenix   90000\n",
      "5    Frank   50  Philadelphia  100000\n",
      "6    Grace   28     San Diego   55000\n",
      "7     Hank   33        Austin   65000\n",
      "8      Ian   38        Denver   75000\n",
      "9     Jack   43       Seattle   85000\n"
     ]
    }
   ],
   "source": [
    "# Concatenating two DataFrames\n",
    "concatenated_df = pd.concat([df, df2], ignore_index=True)\n",
    "print(\"\\nConcatenated DataFrame:\")\n",
    "print(concatenated_df)"
   ]
  },
  {
   "cell_type": "code",
   "execution_count": 20,
   "id": "7e69424b-2e97-45ed-9d7d-ae319878cb9a",
   "metadata": {},
   "outputs": [
    {
     "name": "stdout",
     "output_type": "stream",
     "text": [
      "\n",
      "Any missing values:\n",
      "Name      False\n",
      "Age       False\n",
      "City      False\n",
      "Salary    False\n",
      "dtype: bool\n"
     ]
    }
   ],
   "source": [
    "# Checking for any missing values using .any()\n",
    "print(\"\\nAny missing values:\")\n",
    "print(concatenated_df.isna().any())"
   ]
  },
  {
   "cell_type": "code",
   "execution_count": 21,
   "id": "8b47075d-60e5-465c-9533-648438db37c6",
   "metadata": {},
   "outputs": [
    {
     "name": "stdout",
     "output_type": "stream",
     "text": [
      "\n",
      "All non-null values:\n",
      "Name      True\n",
      "Age       True\n",
      "City      True\n",
      "Salary    True\n",
      "dtype: bool\n"
     ]
    }
   ],
   "source": [
    "# Checking if all values are non-null using .all()\n",
    "print(\"\\nAll non-null values:\")\n",
    "print(concatenated_df.notna().all())\n"
   ]
  },
  {
   "cell_type": "code",
   "execution_count": 22,
   "id": "8ec92b3d-dad9-4ffa-aacb-3821151f2105",
   "metadata": {},
   "outputs": [
    {
     "name": "stdout",
     "output_type": "stream",
     "text": [
      "\n",
      "Checking for missing values with isna():\n",
      "    Name    Age   City  Salary\n",
      "0  False  False  False   False\n",
      "1  False  False  False   False\n",
      "2  False  False  False   False\n",
      "3  False  False  False   False\n",
      "4  False  False  False   False\n",
      "5  False  False  False   False\n",
      "6  False  False  False   False\n",
      "7  False  False  False   False\n",
      "8  False  False  False   False\n",
      "9  False  False  False   False\n",
      "\n",
      "Checking for missing values with isnull():\n",
      "    Name    Age   City  Salary\n",
      "0  False  False  False   False\n",
      "1  False  False  False   False\n",
      "2  False  False  False   False\n",
      "3  False  False  False   False\n",
      "4  False  False  False   False\n",
      "5  False  False  False   False\n",
      "6  False  False  False   False\n",
      "7  False  False  False   False\n",
      "8  False  False  False   False\n",
      "9  False  False  False   False\n"
     ]
    }
   ],
   "source": [
    "\n",
    "# Checking for missing values using .isna() and .isnull()\n",
    "print(\"\\nChecking for missing values with isna():\")\n",
    "print(concatenated_df.isna())\n",
    "print(\"\\nChecking for missing values with isnull():\")\n",
    "print(concatenated_df.isnull())"
   ]
  },
  {
   "cell_type": "code",
   "execution_count": 23,
   "id": "1c25c817-66d3-4503-897e-aaa7366759d1",
   "metadata": {},
   "outputs": [
    {
     "name": "stdout",
     "output_type": "stream",
     "text": [
      "\n",
      "DataFrame saved to output.csv\n"
     ]
    }
   ],
   "source": [
    "# Saving DataFrame to CSV\n",
    "concatenated_df.to_csv(\"output.csv\", index=False)\n",
    "print(\"\\nDataFrame saved to output.csv\")"
   ]
  },
  {
   "cell_type": "code",
   "execution_count": 24,
   "id": "2508304a-5ecf-4bdc-b0a4-e69dda1a7fc0",
   "metadata": {},
   "outputs": [
    {
     "name": "stdout",
     "output_type": "stream",
     "text": [
      "\n",
      "DataFrame read from output.csv:\n",
      "      Name  Age          City  Salary\n",
      "0    Alice   25      New York   50000\n",
      "1      Bob   30   Los Angeles   60000\n",
      "2  Charlie   35       Chicago   70000\n",
      "3    David   40       Houston   80000\n",
      "4      Eve   45       Phoenix   90000\n",
      "5    Frank   50  Philadelphia  100000\n",
      "6    Grace   28     San Diego   55000\n",
      "7     Hank   33        Austin   65000\n",
      "8      Ian   38        Denver   75000\n",
      "9     Jack   43       Seattle   85000\n"
     ]
    }
   ],
   "source": [
    "# Reading DataFrame from CSV\n",
    "read_df = pd.read_csv(\"output.csv\")\n",
    "print(\"\\nDataFrame read from output.csv:\")\n",
    "print(read_df)"
   ]
  },
  {
   "cell_type": "code",
   "execution_count": 25,
   "id": "250cc4e1-884d-473e-86e1-328ea00c06e7",
   "metadata": {},
   "outputs": [
    {
     "name": "stdout",
     "output_type": "stream",
     "text": [
      "\n",
      "DataFrame after dropping 'City' column:\n",
      "      Name  Age  Salary\n",
      "0    Alice   25   50000\n",
      "1      Bob   30   60000\n",
      "2  Charlie   35   70000\n",
      "3    David   40   80000\n",
      "4      Eve   45   90000\n",
      "5    Frank   50  100000\n",
      "6    Grace   28   55000\n",
      "7     Hank   33   65000\n",
      "8      Ian   38   75000\n",
      "9     Jack   43   85000\n"
     ]
    }
   ],
   "source": [
    "# Dropping a column\n",
    "read_df = read_df.drop(columns=['City'])\n",
    "print(\"\\nDataFrame after dropping 'City' column:\")\n",
    "print(read_df)"
   ]
  },
  {
   "cell_type": "code",
   "execution_count": 26,
   "id": "a2c1cc62-4a85-4754-bb13-e3db77442d4c",
   "metadata": {},
   "outputs": [
    {
     "name": "stdout",
     "output_type": "stream",
     "text": [
      "\n",
      "Sum of Age column:\n",
      "367\n"
     ]
    }
   ],
   "source": [
    "# Summing up the values of the Age column\n",
    "print(\"\\nSum of Age column:\")\n",
    "print(read_df['Age'].sum())"
   ]
  },
  {
   "cell_type": "code",
   "execution_count": 27,
   "id": "c6eb04c7-b714-4eb4-a9d8-8a3a5bdd1b5d",
   "metadata": {},
   "outputs": [],
   "source": [
    "# Creating Series\n",
    "data_series1 = pd.Series([1, 2, 3, 4, 5])\n",
    "data_series2 = pd.Series([10, 20, 30, 40, 50])"
   ]
  },
  {
   "cell_type": "code",
   "execution_count": 28,
   "id": "6a1c91da-ab88-4da3-b745-9f8f7e40f5dd",
   "metadata": {},
   "outputs": [
    {
     "name": "stdout",
     "output_type": "stream",
     "text": [
      "\n",
      "DataFrame created from two Series:\n",
      "   Column1  Column2\n",
      "0        1       10\n",
      "1        2       20\n",
      "2        3       30\n",
      "3        4       40\n",
      "4        5       50\n"
     ]
    }
   ],
   "source": [
    "# Creating DataFrame by concatenating two Series\n",
    "df_from_series = pd.DataFrame({'Column1': data_series1, 'Column2': data_series2})\n",
    "print(\"\\nDataFrame created from two Series:\")\n",
    "print(df_from_series)"
   ]
  },
  {
   "cell_type": "code",
   "execution_count": null,
   "id": "d4ab13ba-de3f-4796-9a8a-4f73ab017361",
   "metadata": {},
   "outputs": [],
   "source": []
  }
 ],
 "metadata": {
  "kernelspec": {
   "display_name": "Python 3 (ipykernel)",
   "language": "python",
   "name": "python3"
  },
  "language_info": {
   "codemirror_mode": {
    "name": "ipython",
    "version": 3
   },
   "file_extension": ".py",
   "mimetype": "text/x-python",
   "name": "python",
   "nbconvert_exporter": "python",
   "pygments_lexer": "ipython3",
   "version": "3.12.3"
  }
 },
 "nbformat": 4,
 "nbformat_minor": 5
}
